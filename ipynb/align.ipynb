{
 "cells": [
  {
   "cell_type": "markdown",
   "metadata": {},
   "source": [
    "# Alignment of Fibroin Sequences for Ancestral State Reconstruction\n",
    "We use MAFFT E-INS-i because it is \"suitable for sequences containing large unalignable regions\".\n",
    "### Setup"
   ]
  },
  {
   "cell_type": "code",
   "execution_count": 1,
   "metadata": {
    "collapsed": true
   },
   "outputs": [],
   "source": [
    "from cogent import LoadSeqs, LoadTree, DNA, PROTEIN"
   ]
  },
  {
   "cell_type": "markdown",
   "metadata": {},
   "source": [
    "### Load unaligned DNA sequences"
   ]
  },
  {
   "cell_type": "code",
   "execution_count": 2,
   "metadata": {
    "collapsed": true
   },
   "outputs": [],
   "source": [
    "unaligned_dna = LoadSeqs('../data/unaligned_dna.fasta', moltype = DNA, aligned = False)"
   ]
  },
  {
   "cell_type": "markdown",
   "metadata": {},
   "source": [
    "### Translate to protein sequences\n",
    "(after trimming stop codons)"
   ]
  },
  {
   "cell_type": "code",
   "execution_count": 3,
   "metadata": {
    "collapsed": true
   },
   "outputs": [],
   "source": [
    "unaligned_dna = unaligned_dna.withoutTerminalStopCodons()\n",
    "unaligned_protein = unaligned_dna.getTranslation()\n",
    "unaligned_protein.writeToFile('../results/unaligned_protein.fasta')"
   ]
  },
  {
   "cell_type": "markdown",
   "metadata": {},
   "source": [
    "### Align the protein sequences"
   ]
  },
  {
   "cell_type": "code",
   "execution_count": 4,
   "metadata": {},
   "outputs": [
    {
     "name": "stdout",
     "output_type": "stream",
     "text": [
      "v7.310 (2017/Mar/17)\r\n"
     ]
    }
   ],
   "source": [
    "! ginsi --version"
   ]
  },
  {
   "cell_type": "code",
   "execution_count": 5,
   "metadata": {},
   "outputs": [
    {
     "name": "stdout",
     "output_type": "stream",
     "text": [
      "\n",
      "All-to-all alignment.\n",
      "tbfast-pair (aa) Version 7.310 alg=A, model=BLOSUM62, 2.00, -0.10, +0.10, noshift, amax=0.0\n",
      "0 thread(s)\n",
      "\n",
      "Loading 'hat3.seed' ... \n",
      "done.\n",
      "Writing hat3 for iterative refinement\n",
      "Gap Penalty = -1.53, +0.00, +0.00\n",
      "treein = 0\n",
      "compacttree = 0\n",
      "Constructing a UPGMA tree ... \n",
      "   10 / 20\n",
      "done.\n",
      "\n",
      "Progressive alignment ... \n",
      "STEP    16 /19 c\n",
      "Reallocating..done. *alloclen = 1903\n",
      "STEP    19 /19 c\n",
      "done.\n",
      "tbfast (aa) Version 7.310 alg=A, model=BLOSUM62, 1.53, -0.00, -0.00, noshift, amax=0.0\n",
      "0 thread(s)\n",
      "\n",
      "minimumweight = 0.000010\n",
      "autosubalignment = 0.000000\n",
      "nthread = 0\n",
      "randomseed = 0\n",
      "blosum 62 / kimura 200\n",
      "poffset = 0\n",
      "niter = 16\n",
      "sueff_global = 0.100000\n",
      "Loading 'hat3' ... done.\n",
      "\n",
      "   10 / 20\n",
      "Segment   1/  1    1- 518\n",
      "STEP 003-016-0  rejected..    identical.    rejected. accepted. accepted. identical.    identical.   \n",
      "Converged.\n",
      "\n",
      "done\n",
      "dvtditr (aa) Version 7.310 alg=A, model=BLOSUM62, 1.53, -0.00, -0.00, noshift, amax=0.0\n",
      "0 thread(s)\n",
      "\n",
      "\n",
      "Strategy:\n",
      " G-INS-i (Suitable for sequences of similar lengths, very slow)\n",
      " Iterative refinement method (<16) with GLOBAL pairwise alignment information\n",
      "\n",
      "If unsure which option to use, try 'mafft --auto input > output'.\n",
      "For more information, see 'mafft --help', 'mafft --man' and the mafft page.\n",
      "\n",
      "The default gap scoring scheme has been changed in version 7.110 (2013 Oct).\n",
      "It tends to insert more gaps into gap-rich regions than previous versions.\n",
      "To disable this change, add the --leavegappyregion option.\n",
      "\n"
     ]
    }
   ],
   "source": [
    "! ginsi --maxiterate 1000 --treeout ../results/unaligned_protein.fasta > ../results/aligned_protein.fasta"
   ]
  },
  {
   "cell_type": "markdown",
   "metadata": {},
   "source": [
    "### Check the MAFFT guide tree"
   ]
  },
  {
   "cell_type": "code",
   "execution_count": 6,
   "metadata": {},
   "outputs": [
    {
     "name": "stdout",
     "output_type": "stream",
     "text": [
      "                                                            /-1_AdorF1\n",
      "                                                  /edge.0--|\n",
      "                                        /edge.1--|          \\-2_AmelF1\n",
      "                                       |         |\n",
      "                              /edge.3--|          \\-3_BterF1\n",
      "                             |         |\n",
      "                             |         |          /-4_MforF1\n",
      "                             |          \\edge.2--|\n",
      "                             |                    \\-5_OsmaF1\n",
      "                    /edge.8--|\n",
      "                   |         |                              /-6_AdorF4\n",
      "                   |         |                    /edge.4--|\n",
      "                   |         |          /edge.5--|          \\-7_AmelF4\n",
      "                   |         |         |         |\n",
      "                   |          \\edge.7--|          \\-8_BterF4\n",
      "                   |                   |\n",
      "          /edge.13-|                   |          /-9_MforF4\n",
      "         |         |                    \\edge.6--|\n",
      "         |         |                              \\-10_OsmaF4\n",
      "         |         |\n",
      "         |         |                              /-11_AdorF2\n",
      "         |         |                    /edge.9--|\n",
      "         |         |          /edge.10-|          \\-12_AmelF2\n",
      "         |         |         |         |\n",
      "         |          \\edge.12-|          \\-13_BterF2\n",
      "-root----|                   |\n",
      "         |                   |          /-14_MforF2\n",
      "         |                    \\edge.11-|\n",
      "         |                              \\-15_OsmaF2\n",
      "         |\n",
      "         |                              /-16_AmelF3\n",
      "         |                    /edge.14-|\n",
      "         |          /edge.15-|          \\-17_AdorF3\n",
      "         |         |         |\n",
      "          \\edge.17-|          \\-18_BterF3\n",
      "                   |\n",
      "                   |          /-19_MforF3\n",
      "                    \\edge.16-|\n",
      "                              \\-20_OsmaF3\n"
     ]
    }
   ],
   "source": [
    "mafft_guide_tree = LoadTree('../results/unaligned_protein.fasta.tree')\n",
    "print mafft_guide_tree.asciiArt()"
   ]
  },
  {
   "cell_type": "markdown",
   "metadata": {},
   "source": [
    "### Load the aligned protein sequences"
   ]
  },
  {
   "cell_type": "code",
   "execution_count": 7,
   "metadata": {
    "collapsed": true
   },
   "outputs": [],
   "source": [
    "aligned_protein = LoadSeqs('../results/aligned_protein.fasta', moltype=PROTEIN)"
   ]
  },
  {
   "cell_type": "markdown",
   "metadata": {},
   "source": [
    "### Translate aligned protein sequences to final aligned DNA sequences"
   ]
  },
  {
   "cell_type": "code",
   "execution_count": 8,
   "metadata": {
    "collapsed": true
   },
   "outputs": [],
   "source": [
    "aligned_dna = aligned_protein.replaceSeqs(unaligned_dna)\n",
    "aligned_dna.writeToFile('../results/aligned_dna.fasta')"
   ]
  },
  {
   "cell_type": "code",
   "execution_count": null,
   "metadata": {
    "collapsed": true
   },
   "outputs": [],
   "source": []
  }
 ],
 "metadata": {
  "kernelspec": {
   "display_name": "Python 2",
   "language": "python",
   "name": "python2"
  },
  "language_info": {
   "codemirror_mode": {
    "name": "ipython",
    "version": 2
   },
   "file_extension": ".py",
   "mimetype": "text/x-python",
   "name": "python",
   "nbconvert_exporter": "python",
   "pygments_lexer": "ipython2",
   "version": "2.7.13"
  }
 },
 "nbformat": 4,
 "nbformat_minor": 2
}
