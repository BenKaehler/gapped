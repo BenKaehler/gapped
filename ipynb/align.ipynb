{
 "cells": [
  {
   "cell_type": "code",
   "execution_count": 1,
   "metadata": {},
   "outputs": [],
   "source": [
    "from cogent import LoadSeqs, LoadTree, DNA, PROTEIN\n",
    "from cogent.evolve.models import JTT92"
   ]
  },
  {
   "cell_type": "code",
   "execution_count": 2,
   "metadata": {},
   "outputs": [],
   "source": [
    "unaligned_dna = LoadSeqs('../data/unaligned_dna.fasta', moltype = DNA, aligned = False)"
   ]
  },
  {
   "cell_type": "code",
   "execution_count": 3,
   "metadata": {
    "collapsed": true
   },
   "outputs": [],
   "source": [
    "def trim_stop_codons(aln): # because the pycogent one doesn't work\n",
    "    data = aln.todict()\n",
    "    for name, seq in data.items():\n",
    "        for i in range(0,len(seq),3):\n",
    "            if seq.endswith('TGA'):\n",
    "                data[name] = seq[:-3]\n",
    "    return LoadSeqs(data=data, moltype=DNA, aligned=False)"
   ]
  },
  {
   "cell_type": "code",
   "execution_count": 4,
   "metadata": {},
   "outputs": [],
   "source": [
    "unaligned_dna = trim_stop_codons(unaligned_dna)\n",
    "unaligned_protein = unaligned_dna.getTranslation()\n",
    "unaligned_protein.writeToFile('../results/unaligned_protein.fasta')"
   ]
  },
  {
   "cell_type": "code",
   "execution_count": 5,
   "metadata": {},
   "outputs": [
    {
     "name": "stdout",
     "output_type": "stream",
     "text": [
      "v7.310 (2017/Mar/17)\r\n"
     ]
    }
   ],
   "source": [
    "! einsi --version"
   ]
  },
  {
   "cell_type": "code",
   "execution_count": 6,
   "metadata": {},
   "outputs": [
    {
     "name": "stdout",
     "output_type": "stream",
     "text": [
      "\n",
      "All-to-all alignment.\n",
      "tbfast-pair (aa) Version 7.310 alg=N, model=BLOSUM62, 2.00, -0.00, -0.00, noshift, amax=0.0\n",
      "0 thread(s)\n",
      "\n",
      "Loading 'hat3.seed' ... \n",
      "done.\n",
      "Writing hat3 for iterative refinement\n",
      "Gap Penalty = -1.53, +0.00, +0.00\n",
      "treein = 0\n",
      "compacttree = 0\n",
      "Constructing a UPGMA tree ... \n",
      "   10 / 20\n",
      "done.\n",
      "\n",
      "Progressive alignment ... \n",
      "STEP    16 /19 c\n",
      "Reallocating..done. *alloclen = 1906\n",
      "STEP    19 /19 c\n",
      "done.\n",
      "tbfast (aa) Version 7.310 alg=A, model=BLOSUM62, 1.53, -0.00, -0.00, noshift, amax=0.0\n",
      "0 thread(s)\n",
      "\n",
      "minimumweight = 0.000010\n",
      "autosubalignment = 0.000000\n",
      "nthread = 0\n",
      "randomseed = 0\n",
      "blosum 62 / kimura 200\n",
      "poffset = 0\n",
      "niter = 16\n",
      "sueff_global = 0.100000\n",
      "Loading 'hat3' ... done.\n",
      "\n",
      "   10 / 20\n",
      "Segment   1/  1    1- 529\n",
      "STEP 006-006-1  identical.    rejected. rejected. identical.    rejected. rejected. identical.    rejected. accepted. accepted. identical.    identical.    identical.    identical.    rejected. rejected. identical.   \n",
      "Oscillating.\n",
      "\n",
      "done\n",
      "dvtditr (aa) Version 7.310 alg=A, model=BLOSUM62, 1.53, -0.00, -0.00, noshift, amax=0.0\n",
      "0 thread(s)\n",
      "\n",
      "\n",
      "Strategy:\n",
      " E-INS-i (Suitable for sequences with long unalignable regions, very slow)\n",
      " Iterative refinement method (<16) with LOCAL pairwise alignment with generalized affine gap costs (Altschul 1998)\n",
      "\n",
      "If unsure which option to use, try 'mafft --auto input > output'.\n",
      "For more information, see 'mafft --help', 'mafft --man' and the mafft page.\n",
      "\n",
      "The default gap scoring scheme has been changed in version 7.110 (2013 Oct).\n",
      "It tends to insert more gaps into gap-rich regions than previous versions.\n",
      "To disable this change, add the --leavegappyregion option.\n",
      "\n",
      "Parameters for the E-INS-i option have been changed in version 7.243 (2015 Jun).\n",
      "To switch to the old parameters, use --oldgenafpair, instead of --genafpair.\n",
      "\n"
     ]
    }
   ],
   "source": [
    "! einsi ../results/unaligned_protein.fasta > ../results/aligned_protein.fasta"
   ]
  },
  {
   "cell_type": "code",
   "execution_count": 7,
   "metadata": {
    "collapsed": true
   },
   "outputs": [],
   "source": [
    "aligned_protein = LoadSeqs('../results/aligned_protein.fasta', moltype=PROTEIN)"
   ]
  },
  {
   "cell_type": "code",
   "execution_count": 8,
   "metadata": {},
   "outputs": [],
   "source": [
    "tree = LoadTree('../data/tree.nwk')\n",
    "sm = JTT92(with_rate=True, distribution='gamma')\n",
    "lf = sm.makeLikelihoodFunction(tree)\n",
    "lf.setAlignment(aligned_protein)\n",
    "lf.optimise(local=True)"
   ]
  },
  {
   "cell_type": "code",
   "execution_count": 9,
   "metadata": {},
   "outputs": [
    {
     "name": "stdout",
     "output_type": "stream",
     "text": [
      "Likelihood Function Table\n",
      "====================================\n",
      "       edge         parent    length\n",
      "------------------------------------\n",
      "     AmelF2      twoBeesF2    0.0494\n",
      "     AdorF2      twoBeesF2    0.0321\n",
      "  twoBeesF2    threeBeesF2    0.1473\n",
      "     BterF2    threeBeesF2    0.2415\n",
      "threeBeesF2         rootF2    0.3916\n",
      "     OsmaF2      twoAntsF2    0.2122\n",
      "     MforF2      twoAntsF2    0.2466\n",
      "  twoAntsF2         rootF2    0.2874\n",
      "     rootF2           root    0.2239\n",
      "     AmelF3      twoBeesF3    0.0728\n",
      "     AdorF3      twoBeesF3    0.0331\n",
      "  twoBeesF3    threeBeesF3    0.2170\n",
      "     BterF3    threeBeesF3    0.1808\n",
      "threeBeesF3         rootF3    0.3515\n",
      "     OsmaF3      twoAntsF3    0.1657\n",
      "     MforF3      twoAntsF3    0.2641\n",
      "  twoAntsF3         rootF3    0.2790\n",
      "     rootF3           root    0.2647\n",
      "     AmelF1      twoBeesF1    0.0321\n",
      "     AdorF1      twoBeesF1    0.0296\n",
      "  twoBeesF1    threeBeesF1    0.2726\n",
      "     BterF1    threeBeesF1    0.1358\n",
      "threeBeesF1         rootF1    0.4551\n",
      "     OsmaF1      twoAntsF1    0.2041\n",
      "     MforF1      twoAntsF1    0.2266\n",
      "  twoAntsF1         rootF1    0.3542\n",
      "     rootF1       rootF1F4    0.2025\n",
      "     AmelF4      twoBeesF4    0.0505\n",
      "     AdorF4      twoBeesF4    0.0189\n",
      "  twoBeesF4    threeBeesF4    0.2594\n",
      "     BterF4    threeBeesF4    0.2327\n",
      "threeBeesF4         rootF4    0.3334\n",
      "     OsmaF4      twoAntsF4    0.3074\n",
      "     MforF4      twoAntsF4    0.1867\n",
      "  twoAntsF4         rootF4    0.3184\n",
      "     rootF4       rootF1F4    0.0641\n",
      "   rootF1F4           root    0.1018\n",
      "------------------------------------\n",
      "===============\n",
      "motif    mprobs\n",
      "---------------\n",
      "    A    0.0767\n",
      "    C    0.0198\n",
      "    D    0.0515\n",
      "    E    0.0618\n",
      "    F    0.0401\n",
      "    G    0.0732\n",
      "    H    0.0229\n",
      "    I    0.0538\n",
      "    K    0.0587\n",
      "    L    0.0919\n",
      "    M    0.0238\n",
      "    N    0.0426\n",
      "    P    0.0509\n",
      "    Q    0.0408\n",
      "    R    0.0517\n",
      "    S    0.0688\n",
      "    T    0.0586\n",
      "    V    0.0660\n",
      "    W    0.0143\n",
      "    Y    0.0321\n",
      "---------------\n"
     ]
    }
   ],
   "source": [
    "print(lf)"
   ]
  },
  {
   "cell_type": "code",
   "execution_count": 10,
   "metadata": {
    "collapsed": true
   },
   "outputs": [],
   "source": [
    "aligned_dna = aligned_protein.replaceSeqs(unaligned_dna)\n",
    "aligned_dna.writeToFile('../results/aligned_dna.fasta')"
   ]
  },
  {
   "cell_type": "code",
   "execution_count": 11,
   "metadata": {},
   "outputs": [],
   "source": [
    "for node in lf.tree.getEdgeVector(include_root=False):\n",
    "    node.Length = lf.getParamValue('length', edge=node.Name)\n",
    "    if node.Name in aligned_dna.Names:\n",
    "        node.Name = str(aligned_dna.Names.index(node.Name)+1)\n",
    "    else:\n",
    "        node.NameLoaded = False"
   ]
  },
  {
   "cell_type": "code",
   "execution_count": 12,
   "metadata": {
    "collapsed": true
   },
   "outputs": [],
   "source": [
    "lf.tree.writeToFile('../results/tree.nwk',with_distances=True)"
   ]
  },
  {
   "cell_type": "code",
   "execution_count": 13,
   "metadata": {},
   "outputs": [
    {
     "name": "stdout",
     "output_type": "stream",
     "text": [
      "scale = 1.0\r\n",
      "Initial tree = ((((4:0.0494378153641,11:0.0321185160735):0.147262331447,12:0.241455813):0.391612912096,(8:0.212161437674,13:0.246610990448):0.287393781555):0.223945507167,(((17:0.0728370267921,14:0.033143648224):0.216972707096,1:0.180790586977):0.351476431641,(9:0.165680317818,16:0.264076842065):0.278985685337):0.26466398134,((((15:0.0320698577921,2:0.0296235962633):0.272552048504,3:0.135806041444):0.455149672861,(7:0.204113813024,18:0.22664305655):0.354180709069):0.202454291919,(((19:0.050535386944,5:0.0188949468014):0.259409219998,6:0.232715998376):0.3333609692,(10:0.307433156271,20:0.186654813577):0.318376065761):0.0641042310778):0.101836605722);\r\n"
     ]
    }
   ],
   "source": [
    "! ./newick2mafft.rb ../results/tree.nwk > ../results/tree.mafft"
   ]
  },
  {
   "cell_type": "code",
   "execution_count": 14,
   "metadata": {},
   "outputs": [
    {
     "name": "stdout",
     "output_type": "stream",
     "text": [
      "\n",
      "All-to-all alignment.\n",
      "tbfast-pair (aa) Version 7.310 alg=N, model=BLOSUM62, 2.00, -0.00, -0.00, noshift, amax=0.0\n",
      "0 thread(s)\n",
      "\n",
      "Loading 'hat3.seed' ... \n",
      "done.\n",
      "Writing hat3 for iterative refinement\n",
      "Gap Penalty = -1.53, +0.00, +0.00\n",
      "loadtree.\n",
      "treein = 108\n",
      "compacttree = 0\n",
      "Loading a tree\n",
      "\n",
      "   10 / 20\n",
      "done.\n",
      "\n",
      "Progressive alignment ... \n",
      "STEP    16 /19 c\n",
      "Reallocating..done. *alloclen = 1906\n",
      "STEP    19 /19 c\n",
      "done.\n",
      "tbfast (aa) Version 7.310 alg=A, model=BLOSUM62, 1.53, -0.00, -0.00, noshift, amax=0.0\n",
      "0 thread(s)\n",
      "\n",
      "minimumweight = 0.000010\n",
      "autosubalignment = 0.000000\n",
      "nthread = 0\n",
      "randomseed = 0\n",
      "blosum 62 / kimura 200\n",
      "poffset = 0\n",
      "niter = 16\n",
      "sueff_global = 0.100000\n",
      "Loading 'hat3' ... done.\n",
      "\n",
      "10 / 20\n",
      "\n",
      "Segment   1/  1    1- 522\n",
      "STEP 006-016-1  rejected..    identical.    accepted. rejected. identical.    identical.    identical.    identical.    rejected. rejected. rejected. rejected. rejected. rejected.\n",
      "Oscillating.\n",
      "\n",
      "done\n",
      "dvtditr (aa) Version 7.310 alg=A, model=BLOSUM62, 1.53, -0.00, -0.00, noshift, amax=0.0\n",
      "0 thread(s)\n",
      "\n",
      "\n",
      "Strategy:\n",
      " E-INS-i (Suitable for sequences with long unalignable regions, very slow)\n",
      " Iterative refinement method (<16) with LOCAL pairwise alignment with generalized affine gap costs (Altschul 1998)\n",
      "\n",
      "If unsure which option to use, try 'mafft --auto input > output'.\n",
      "For more information, see 'mafft --help', 'mafft --man' and the mafft page.\n",
      "\n",
      "The default gap scoring scheme has been changed in version 7.110 (2013 Oct).\n",
      "It tends to insert more gaps into gap-rich regions than previous versions.\n",
      "To disable this change, add the --leavegappyregion option.\n",
      "\n",
      "Parameters for the E-INS-i option have been changed in version 7.243 (2015 Jun).\n",
      "To switch to the old parameters, use --oldgenafpair, instead of --genafpair.\n",
      "\n"
     ]
    }
   ],
   "source": [
    "! einsi --treein ../results/tree.mafft ../results/unaligned_protein.fasta > ../results/aligned_protein.fasta"
   ]
  },
  {
   "cell_type": "code",
   "execution_count": 15,
   "metadata": {
    "collapsed": true
   },
   "outputs": [],
   "source": [
    "aligned_protein = LoadSeqs('../results/aligned_protein.fasta', moltype=PROTEIN)"
   ]
  },
  {
   "cell_type": "code",
   "execution_count": 16,
   "metadata": {
    "collapsed": true
   },
   "outputs": [],
   "source": [
    "aligned_dna = aligned_protein.replaceSeqs(unaligned_dna)\n",
    "aligned_dna.writeToFile('../results/aligned_dna.fasta')"
   ]
  }
 ],
 "metadata": {
  "kernelspec": {
   "display_name": "Python 2",
   "language": "python",
   "name": "python2"
  },
  "language_info": {
   "codemirror_mode": {
    "name": "ipython",
    "version": 2
   },
   "file_extension": ".py",
   "mimetype": "text/x-python",
   "name": "python",
   "nbconvert_exporter": "python",
   "pygments_lexer": "ipython2",
   "version": "2.7.13"
  }
 },
 "nbformat": 4,
 "nbformat_minor": 2
}
