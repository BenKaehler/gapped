{
 "cells": [
  {
   "cell_type": "markdown",
   "metadata": {},
   "source": [
    "# Joint Ancestral State Reconstruction for the Aculeate Hymenoptera Silk Fibroins\n",
    "This notebook fits a CNFGTR model that includes a gap state then performs joint ancestral state reconstruction using the algorithm in Pupko et al. (Mol. Biol. Evol. 17(6):890–896. 2000).\n",
    "### Setup\n",
    "Note that the cogent that is required here is from [a special PyCogent](https://github.com/BenKaehler/pycogent/tree/codon_gaps).\n",
    "\n",
    "`gapped` is the Python module in this repo."
   ]
  },
  {
   "cell_type": "code",
   "execution_count": 1,
   "metadata": {
    "collapsed": true
   },
   "outputs": [],
   "source": [
    "import cogent\n",
    "from numpy import allclose\n",
    "\n",
    "import gapped"
   ]
  },
  {
   "cell_type": "markdown",
   "metadata": {},
   "source": [
    "### Load the alignment and the tree"
   ]
  },
  {
   "cell_type": "code",
   "execution_count": 2,
   "metadata": {
    "collapsed": true
   },
   "outputs": [],
   "source": [
    "aln = cogent.LoadSeqs('../results/aligned_dna.fasta', moltype=cogent.DNA)\n",
    "tree = cogent.LoadTree('../data/tree.nwk')"
   ]
  },
  {
   "cell_type": "code",
   "execution_count": 3,
   "metadata": {},
   "outputs": [
    {
     "name": "stdout",
     "output_type": "stream",
     "text": [
      "                                        /-AmelF2\n",
      "                              /twoBeesF2\n",
      "                    /threeBeesF2        \\-AdorF2\n",
      "                   |         |\n",
      "          /rootF2--|          \\-BterF2\n",
      "         |         |\n",
      "         |         |          /-OsmaF2\n",
      "         |          \\twoAntsF2\n",
      "         |                    \\-MforF2\n",
      "         |\n",
      "         |                              /-AmelF3\n",
      "         |                    /twoBeesF3\n",
      "         |          /threeBeesF3        \\-AdorF3\n",
      "         |         |         |\n",
      "         |-rootF3--|          \\-BterF3\n",
      "         |         |\n",
      "-root----|         |          /-OsmaF3\n",
      "         |          \\twoAntsF3\n",
      "         |                    \\-MforF3\n",
      "         |\n",
      "         |                                        /-AmelF1\n",
      "         |                              /twoBeesF1\n",
      "         |                    /threeBeesF1        \\-AdorF1\n",
      "         |                   |         |\n",
      "         |          /rootF1--|          \\-BterF1\n",
      "         |         |         |\n",
      "         |         |         |          /-OsmaF1\n",
      "         |         |          \\twoAntsF1\n",
      "         |         |                    \\-MforF1\n",
      "          \\rootF1F4|\n",
      "                   |                              /-AmelF4\n",
      "                   |                    /twoBeesF4\n",
      "                   |          /threeBeesF4        \\-AdorF4\n",
      "                   |         |         |\n",
      "                    \\rootF4--|          \\-BterF4\n",
      "                             |\n",
      "                             |          /-OsmaF4\n",
      "                              \\twoAntsF4\n",
      "                                        \\-MforF4\n"
     ]
    }
   ],
   "source": [
    "print tree.asciiArt()"
   ]
  },
  {
   "cell_type": "markdown",
   "metadata": {},
   "source": [
    "### Fit CNFGTR with gaps"
   ]
  },
  {
   "cell_type": "code",
   "execution_count": 4,
   "metadata": {},
   "outputs": [
    {
     "name": "stderr",
     "output_type": "stream",
     "text": [
      "/Users/benkaehler/Projects/pycogent-bk/cogent/evolve/parameter_controller.py:241: UserWarning: Used mean of 38 mprobs values\n",
      "  is_independent)\n"
     ]
    }
   ],
   "source": [
    "model = gapped.CNFGTR(optimise_motif_probs=True, model_gaps=True)\n",
    "cnfgtr = model.makeLikelihoodFunction(tree)\n",
    "cnfgtr.setAlignment(aln)\n",
    "with cnfgtr.updatesPostponed():\n",
    "    for param in cnfgtr.getParamNames():\n",
    "        if param != 'length':\n",
    "            cnfgtr.setParamRule(param, is_independent=False)\n",
    "        if '/' in param:\n",
    "            cnfgtr.setParamRule(param, upper=20., lower=0.05)\n",
    "cnfgtr.setParamRule('length', is_independent=True, upper=20.)\n",
    "cnfgtr.optimise(local=True, show_progress=False, limit_action='raise')"
   ]
  },
  {
   "cell_type": "code",
   "execution_count": 5,
   "metadata": {},
   "outputs": [
    {
     "name": "stdout",
     "output_type": "stream",
     "text": [
      "Likelihood Function Table\n",
      "==================================================================\n",
      "   A/C       A/G       A/T       C/G       C/T     indel     omega\n",
      "------------------------------------------------------------------\n",
      "0.8133    2.3215    1.1722    0.8220    1.9386    0.1436    0.3396\n",
      "------------------------------------------------------------------\n",
      "====================================\n",
      "       edge         parent    length\n",
      "------------------------------------\n",
      "     AmelF2      twoBeesF2    0.0793\n",
      "     AdorF2      twoBeesF2    0.0941\n",
      "  twoBeesF2    threeBeesF2    0.3970\n",
      "     BterF2    threeBeesF2    0.5936\n",
      "threeBeesF2         rootF2    1.6002\n",
      "     OsmaF2      twoAntsF2    0.6853\n",
      "     MforF2      twoAntsF2    0.7076\n",
      "  twoAntsF2         rootF2    1.5582\n",
      "     rootF2           root    0.8846\n",
      "     AmelF3      twoBeesF3    0.1095\n",
      "     AdorF3      twoBeesF3    0.0762\n",
      "  twoBeesF3    threeBeesF3    0.5867\n",
      "     BterF3    threeBeesF3    0.4855\n",
      "threeBeesF3         rootF3    0.9854\n",
      "     OsmaF3      twoAntsF3    0.5207\n",
      "     MforF3      twoAntsF3    0.7207\n",
      "  twoAntsF3         rootF3    1.4373\n",
      "     rootF3           root    1.4386\n",
      "     AmelF1      twoBeesF1    0.0889\n",
      "     AdorF1      twoBeesF1    0.0758\n",
      "  twoBeesF1    threeBeesF1    0.6217\n",
      "     BterF1    threeBeesF1    0.4186\n",
      "threeBeesF1         rootF1    1.5444\n",
      "     OsmaF1      twoAntsF1    0.4517\n",
      "     MforF1      twoAntsF1    0.9028\n",
      "  twoAntsF1         rootF1    1.4509\n",
      "     rootF1       rootF1F4    0.8993\n",
      "     AmelF4      twoBeesF4    0.0983\n",
      "     AdorF4      twoBeesF4    0.0630\n",
      "  twoBeesF4    threeBeesF4    0.5873\n",
      "     BterF4    threeBeesF4    1.1397\n",
      "threeBeesF4         rootF4    1.7237\n",
      "     OsmaF4      twoAntsF4    1.0683\n",
      "     MforF4      twoAntsF4    0.6317\n",
      "  twoAntsF4         rootF4    1.9008\n",
      "     rootF4       rootF1F4    0.0000\n",
      "   rootF1F4           root    0.1908\n",
      "------------------------------------\n",
      "===============\n",
      "motif    mprobs\n",
      "---------------\n",
      "  CTT    0.0072\n",
      "  ACC    0.0135\n",
      "  ACA    0.0040\n",
      "  ACG    0.0084\n",
      "  ATC    0.0139\n",
      "  ATA    0.0064\n",
      "  AGG    0.0076\n",
      "  CCT    0.0009\n",
      "  AGC    0.0257\n",
      "  AGA    0.0095\n",
      "  ATT    0.0048\n",
      "  CTG    0.0126\n",
      "  CTA    0.0027\n",
      "  ACT    0.0049\n",
      "  CCG    0.0024\n",
      "  AGT    0.0106\n",
      "  CCA    0.0031\n",
      "  CCC    0.0018\n",
      "  TAT    0.0021\n",
      "  GGT    0.0132\n",
      "  CGA    0.0049\n",
      "  CGC    0.0066\n",
      "  CGG    0.0028\n",
      "  GGG    0.0028\n",
      "  GGA    0.0135\n",
      "  GGC    0.0177\n",
      "  TAC    0.0043\n",
      "  CGT    0.0061\n",
      "  GTA    0.0050\n",
      "  GTC    0.0119\n",
      "  GTG    0.0103\n",
      "  GAG    0.0275\n",
      "  GTT    0.0054\n",
      "  GAC    0.0102\n",
      "  ATG    0.0053\n",
      "  AAG    0.0242\n",
      "  AAA    0.0192\n",
      "  AAC    0.0162\n",
      "  CTC    0.0177\n",
      "  CAT    0.0026\n",
      "  AAT    0.0101\n",
      "  CAC    0.0026\n",
      "  CAA    0.0218\n",
      "  CAG    0.0200\n",
      "  TGT    0.0008\n",
      "  TCT    0.0096\n",
      "  GAT    0.0081\n",
      "  TTT    0.0016\n",
      "  TGC    0.0027\n",
      "  TGG    0.0094\n",
      "  TTC    0.0027\n",
      "  TCG    0.0204\n",
      "  TTA    0.0053\n",
      "  TTG    0.0136\n",
      "  TCC    0.0267\n",
      "  GAA    0.0286\n",
      "  TCA    0.0096\n",
      "  GCA    0.0395\n",
      "  GCC    0.0771\n",
      "  GCG    0.0423\n",
      "  GCT    0.0451\n",
      "  ---    0.2334\n",
      "---------------\n"
     ]
    }
   ],
   "source": [
    "print cnfgtr"
   ]
  },
  {
   "cell_type": "markdown",
   "metadata": {},
   "source": [
    "### Write out the CNFGTR tree for plotting using another application"
   ]
  },
  {
   "cell_type": "code",
   "execution_count": 6,
   "metadata": {
    "collapsed": true
   },
   "outputs": [],
   "source": [
    "for node in cnfgtr.tree.getEdgeVector(include_root=False):\n",
    "    node.Length = cnfgtr.getParamValue('length', edge=node.Name)\n",
    "cnfgtr.tree.writeToFile('../results/cnfgtr.nwk',with_distances=True)"
   ]
  },
  {
   "cell_type": "markdown",
   "metadata": {},
   "source": [
    "### Perform the joint ancestral state reconstruction"
   ]
  },
  {
   "cell_type": "code",
   "execution_count": 7,
   "metadata": {
    "collapsed": true
   },
   "outputs": [],
   "source": [
    "anc_aln = gapped.joint(cnfgtr)"
   ]
  },
  {
   "cell_type": "markdown",
   "metadata": {},
   "source": [
    "### Write out the ancestral state reconstructions as an alignment"
   ]
  },
  {
   "cell_type": "code",
   "execution_count": 8,
   "metadata": {
    "collapsed": true
   },
   "outputs": [],
   "source": [
    "anc_aln.writeToFile('../results/joint.fasta')"
   ]
  },
  {
   "cell_type": "code",
   "execution_count": null,
   "metadata": {
    "collapsed": true
   },
   "outputs": [],
   "source": []
  }
 ],
 "metadata": {
  "kernelspec": {
   "display_name": "Python 2",
   "language": "python",
   "name": "python2"
  },
  "language_info": {
   "codemirror_mode": {
    "name": "ipython",
    "version": 2
   },
   "file_extension": ".py",
   "mimetype": "text/x-python",
   "name": "python",
   "nbconvert_exporter": "python",
   "pygments_lexer": "ipython2",
   "version": "2.7.13"
  }
 },
 "nbformat": 4,
 "nbformat_minor": 1
}
