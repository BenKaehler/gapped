{
 "cells": [
  {
   "cell_type": "code",
   "execution_count": 17,
   "metadata": {},
   "outputs": [],
   "source": [
    "import json\n",
    "\n",
    "import cogent\n",
    "from numpy import allclose\n",
    "\n",
    "import gapped"
   ]
  },
  {
   "cell_type": "code",
   "execution_count": 26,
   "metadata": {
    "collapsed": true
   },
   "outputs": [],
   "source": [
    "treestring = '((AmelF2,AdorF1)twoBeesF2,BterF3,OsmaF4);'"
   ]
  },
  {
   "cell_type": "code",
   "execution_count": 27,
   "metadata": {},
   "outputs": [],
   "source": [
    "tree = cogent.LoadTree(treestring=treestring)\n",
    "aln = cogent.LoadSeqs('../data/alternate.fasta', moltype=cogent.DNA)\n",
    "aln = aln.takeSeqs(tree.getTipNames())"
   ]
  },
  {
   "cell_type": "code",
   "execution_count": 28,
   "metadata": {},
   "outputs": [
    {
     "name": "stdout",
     "output_type": "stream",
     "text": [
      "                    /-AmelF2\n",
      "          /twoBeesF2\n",
      "         |          \\-AdorF1\n",
      "-root----|\n",
      "         |--BterF3\n",
      "         |\n",
      "          \\-OsmaF4\n"
     ]
    }
   ],
   "source": [
    "print tree.asciiArt()"
   ]
  },
  {
   "cell_type": "code",
   "execution_count": 29,
   "metadata": {
    "collapsed": true
   },
   "outputs": [],
   "source": [
    "doc = {'aln' : str(aln), 'tree' : str(tree)}"
   ]
  },
  {
   "cell_type": "code",
   "execution_count": 30,
   "metadata": {},
   "outputs": [],
   "source": [
    "cnfgtr_result = gapped.ml(doc, model='CNFGTR', model_gaps=True, omega_indep=False, indel_indep=False)"
   ]
  },
  {
   "cell_type": "code",
   "execution_count": 31,
   "metadata": {},
   "outputs": [],
   "source": [
    "with open('small_cnfgtr.json', 'w') as lf_out:\n",
    "    json.dump(cnfgtr_result['lf'], lf_out)\n",
    "aln.writeToFile('small_aln.fasta')"
   ]
  },
  {
   "cell_type": "code",
   "execution_count": 21,
   "metadata": {},
   "outputs": [
    {
     "name": "stderr",
     "output_type": "stream",
     "text": [
      "/Users/benkaehler/Projects/pycogent-bk/cogent/evolve/parameter_controller.py:241: UserWarning: Used mean of 9 mprobs values\n",
      "  is_independent)\n",
      "/Users/benkaehler/Projects/pycogent-bk/cogent/evolve/parameter_controller.py:241: UserWarning: Used mean of 8 A/C values\n",
      "  is_independent)\n",
      "/Users/benkaehler/Projects/pycogent-bk/cogent/evolve/parameter_controller.py:241: UserWarning: Used mean of 8 indel values\n",
      "  is_independent)\n",
      "/Users/benkaehler/Projects/pycogent-bk/cogent/evolve/parameter_controller.py:241: UserWarning: Used mean of 8 C/G values\n",
      "  is_independent)\n",
      "/Users/benkaehler/Projects/pycogent-bk/cogent/evolve/parameter_controller.py:241: UserWarning: Used mean of 8 omega values\n",
      "  is_independent)\n"
     ]
    }
   ],
   "source": [
    "model = lambda: gapped.CNFGTR(optimise_motif_probs=True, model_gaps=True)\n",
    "cnfgtr = gapped.inflate_likelihood_function(cnfgtr_result['lf'], model)"
   ]
  },
  {
   "cell_type": "code",
   "execution_count": 23,
   "metadata": {},
   "outputs": [
    {
     "data": {
      "text/plain": [
       "{'AdorF2': 'ATGAAGATTCCAGCAATA---TTCGTCACGTCTCTGCTG---GTCTGG---GGATTGGCCGAGGGCCGCGTGATT---AAT------------CAGTCCCTGAAGTCGAACGTGGATATTCAAGGA---------------------------------------------------------------------------------------------------------------------------------------------------------------------------------------------------GCAGCAGGACAAGTCGGCGATGGATCTTACGTGTTTGGCTCCTCCATAGAAAACGCCCTAAAAGTT------GCTCGAGCGTCTGAGAACGTGGGCCTGAATCTGGAA------------------------TTGAACGCAGGCGCGCGTGCTGCCAGTGTTGCCGCTGCTGCCCAGGCCAAGAATACAGAGGCTGCGGAAGCAGGAGCAAACGCCGCTCTGGCTGCCGCCATTGCCAAACGGGAGGAAGCGATTAAAGCCAGCGAGATAGCAAGCCAGTTATTGACCAATGCAGCAAAGGCGGCAGAGGCAACTGTATCGGCAACGAAGAGGGCAGCACAATTGACGGCTGCGGCGAAAGAAGCAACCAGAGCTTCTGCAGCTGCTGCTGAAGCTGCCACGGAGGCCCAGGTAAAGGCTAACGCCGATTCGATCATCACGAAACGGGCTGCGATTGCCGAGGCTCAAGCTGCAGCGGAAGCTCAAGTTAAGGCAGCAATCGCC------AGGAAATCGGCAGCGAACTTTTTGGCTAAGGCTCAAGTAGCAGCTGCCACGGAATCCGAGGCCACAAAACTCGCGGCCGAAGCCGCAGTGGCATTAACAAACGCAGAAGTCGCCGTGAACCAAGCTAGGAATGCACAGGCAACCGCCTCGACTCAAGCTTCCGCGGCTGTTAGGGTAGATTCTCAAGCAGCGAATGCTGAAGCAGCCGCTGTAGCACAAGCCGAAACTCTCTTGGTTACAGCAGAAGCTGTCGCAGCTGCGGAGGCTGAGGCTGCGAGCAAAGCCGCCTCACTAGCAAAAAAGATCGTCGAT------------------------------------GAGAAAAAGATACGTGTAGAAAAGTTGGAA---------------------------------------------------------------------------------------------------------------------------------------------------------------------------------------------------------------------------------------------------------------------------------------------------------------------------------------------------------------------------------------',\n",
       " 'AmelF2': 'ATGAAGATTCCAGCAATA---TTCGTCACGTCTCTGCTG---GTCTGG---GGATTGGCCGAGGGCCGCGTGATT---AATCAC---------GAGTCCCTGAAGACGAGCGAGGATATTCAAGGAGGA---------------------------------------------------------------------------------------------------------------------------------------------------------------------------------------------TATTCAGCAGGAATAGTCGGTGATGGATCTGACGCGCTTGGCTCCTCCATAGAAAACGCCCAAAAAGTC------GCTCGAGCGGCTGAAAACGTGGGCTTGAATCTGGAA------------------------TTGGGCGCAGGCGCGCGTGCTGCCAGTGTTGCCGCTGCTGCCCAGGCCAAAAACACAGAGGCTGCGGAAGCAGGAGCAAACGCCGCTCTGGCCGCCGCCATTGCCAAACGGGAGGAAGCGATTAAAGCCAGCGAGATAGCAAACCAATTGTTGACCAATGCAGCAAAAGCGGCAGAAGCGACTGTATCGGCAACGAAGAGGGCAGCACAATTGACGGCTGCAGCGAAAGAAGCAACCAGAGCTTCTGCAGCCGCTGCTGAAGCTGCTACGGAGGCCCAGGTAAAGGCTAACGCCGATTCAATCATCACGAAGAGGGCTGCGATTGCCGAGGCTCAAGCTGCGGCGGAAGCTCAAGTTAAGGCGGCAATCGCC------AGAAAATCGGCAGCGAATTTTTTGGCTAAGGCTCAAATAGCGGCTGCCGCGGAATCCGAGGCCACGAAACTCGCGGCCGAAGCTGTAGTGGCACTAACAAACGCCGAAGTCGCCGTGAACCAGGCTAGAAACGCACAGGCAAACGCCTCGACTCAAGCTTCCATGGCTGTTAGGGTAGATTCTCAAGCAGCGAACGCTGAAGCAGCCGCTGTAGCGCAAGCCGAAACTCTCTTGGTTACGGCAGAAGCTGTCGCAGCTGCGGAGGCTGAGGTTGCGAACAAAGCCGCCACATTTGCAAAACAGATCGTCAAC------------------------------------GAGAAGAAAATACATGTAGCAAAGTTGGAA---------------------------------------------------------------------------------------------------------------------------------------------------------------------------------------------------------------------------------------------------------------------------------------------------------------------------------------------------------------------------------------',\n",
       " 'BterF2': 'ATGAAGATTCCAGCAATA---CTGGTTACGTCTCTGCTG---GTCTGGGGTGGTCTGGCCGAGGGCCACGTGGTG---AAG------------CGCGAC------AAGGAGCTCAAGGCCCCGGCT---------------------------------------------------------------------------------------------------------------------------------------------------------------------------------------------------TTACCGGAACTACTCGGTGATGGGTCTGACACGCTCGGTGCCTCGATGGAGAACGGGATCAAAGTC------GCCAGAGCATCGCAGAATGTGGGTCTGAGAACAGAG------------------------TTGAATGCAGCCGCGCGGGCTGCAGCCGCTGCTGCGACCAAGCAGGCCAAAGACACAGAGGCCGCGGAAGCTGGAGCGGCCGCTGCGATTGCCATCGCTATCGCCAAGCGTGAAGAAGCTATCAAAGCAAGCGAATTAGCCAGCAAGTTGTTGACAGCCGCGGCTGGGTCCAGCGAAGCTGCCGTGTCAGCGACGGTGAGGGCGGCGCAATTGACGGCCGCAGCTAGCGCAGCTGCCAAAGCTTCTGCATCCGCCTCTGAGGCTTCTGCCGAAGCCCAGGTGAGGGCCAACGCCGAAGCAAACATCGCCAAGAAAGCTTCGGCAGCTGAAGCAAAAGCCGCAGCCGAAGCCCAGGTTAAGGCGGAACTCGCC------AAGAAAGCGGCCGCCGGTTTCTTAGCTAAGGCTAGACTAGCGGCCAGCGCCGAATCCGAGGCCACTAAACTCGCAGCCGAAGCTGAAGTAGCACTGGCTAAGGCCAGAGTCGCCGTCGACCAGTCGCAGAGCGCACAGGCAACCGCTACCGCTCAAGCTGCCACAGCCGTTCAGCTGCAGTCTCAAGCAGCTAACGCGGAAGCCTCCGCTGTAGCACAGGCTGAAACTCTGCTGGTCACGGCGGAAGCCGTCTCTGCCGCGGAAGCCGAAGCCGCGACCAAAGCTACCAGTTGGGGCGAAGAATGTCATCAA------------------------------------CGAGAAAAAGTTACGTTTAGCGAAGATCGATTAAACGAGAGACAAGACAAT---------------------------------------------------------------------------------------------------------------------------------------------------------------------------------------------------------------------------------------------------------------------------------------------------------------------------------------------------------------TGG',\n",
       " 'MforF2': 'ATGAAGATTCCAGCGATA---CTCGTGACGTCTCTCCTC---GCCTGG---GGATTAGCCAGCGGCCGGGTCATC---GAG------------TCCAGCTCGTCGGCTTCCGCACAGGCGTCGGCATCGGCCGGCTCGAGAGGCCTGCTCGGTAAA---------------------------------------------------------------------------CGGCCGATTGGCAAGCTCGAGTGGGGCAAGGAGGAGAAG---------------------AAACTCGAAGAACTCGACGAGGAATCGCTCAATGAGGCCGCTCTGAAGGTCGGCATCAAGAACGGCGGATTGGATGTCGCGAAGGGCGCGGCAGTCCTC---GAGGCAGCGATGAGCGACGTCGCGACCCTTACGGATCAGCGTTCTCTTGTGGATCTCGGTCTCGGCCCGGTCGCGAACGAGGCCGAGATCCTGGCGGAGGCGCAGGCCGCCACGAGCGCCCAAGCTGGCGCTGTCGCTAATAGCGCCGCGGAGCGTGCGATCGCGGCGATGGAGATGGCCGACAGAACCGAATATATTGCGGCACTTGTCACCACCAAAGCCGCCAAAGCTGCCGAGGCCACTATGGCCGCTACTGCCCGTGCCACCGCCGCCGCCTCAGCCTCCAAGATATCCAGTCAGGAATCAGCCGCATCGGCCGCTAACGCCGCCAACGCCGAAGCCAAGGCCAACGCCGCTTCCATAATCGCTAACAAGGCGAACGCCGTCCTGGCTGAGGCCGCCGCCGTACTCGCAGCCACTGCTGCCAAGGCC------AAGGAATCGGCGATGAAATCGCTTAGCGCCGCTCAGGCCGCCGCCAAGGCACAAGCCAGGAACGCCGAGGCCTCCGCCGAAGCTCAGATCAAACTTTCCCAGGCCAGGGCCGCCGTGGCACGCGCTGCAGCCGATCAGGCCGTCTGTTCCTCCCAGGCTCAGGCCGCAAGTCAGATACAATCGAGGGCATCCGCATCCGAATCCGCGGCATCGGCACAATCAGAGACCAACACCGCCGCGGCCGAAGCGGTCGCCACCGCTGACGCCGAAGCGGCCGCGCAAGCTGAAGCGTGGGTCATGTCGCTGAAGAAC------------------------------------GATCTG---TGGCTGCATCTCAACATGAAGGGTGAGGCCAAGGCCGAAGGCGAGGCCGTTTCGATCAGCAAA---------------GGACATCGCGGCGGTATCAGGTCGGGC------------------------------------AGCATCTCGGAAGCCAGCGCCGAGGCAAGCAGCAACGTTTCCATGGGCGGA---------------------------CGTCATGGACGGAAGGACCTCGTCTCTGAAGCGTTAGCGGGAGCATCAGCGGGCAGCAGTGCCGACTCC---------------------------------------------------------------------------------------------------------CTT',\n",
       " 'OsmaF2': 'ATGAAGATTCCAGCGATA---TTCGTGACGTCTCTGCTC---GCCTGG---GGACTCGCCAGCGGCGGAGTCATA---GGT------------CCCGACACGTCCTCATCGTCCCAGGCATCGGCATCGGCATCGGCGTCAGCATCGGCGTCGGCA---------------------------------------------------------------------------TCATCGTCGGCATCGATCGGTTACAACGAACTCCATAAA---------------------------------------------TCGATCAATGCGCCCGCCTTGGCGGTCGGCGTCAAGAACGGCGGAGTGGATGTCGCCAAGGGCGCGGCCGTTGTC---GAATCAGCGATATCCGACGTATCGACTCTAACCGATGATCGTACGTTGAAC------GGTCTCGCTATCATCGGGAATAGCGCCGAGAGTCTGGCAAGAGCACAGGCTTCCTCGAGCGCCAGCGCCGGCGCAAAAGCCAATGCTCTCATCAAACAATCGATAGCGGCTATAGAGATCACCGAAAAGGCAGAGTACCTTGCGTCGATCGTCGCCACCAAGGCAGCGAAGGCCGCCGAGGCCACAGCGGCCGCGACCGCTCGCGCCACTGCCGTCGCCGAGGCTGCCAAGGTTTCCAGCGAGCAATTCGCGGCCGAGGCACGCGCGGCCGCCGACGCCGAAGCCAAGGCCAACGCCGCTTCCATCATCGCCAACAAAGCGAACGCCGTCCTCGCGGAGGCAGCCACCGGACTTAGCGCCAGCGCTGGCAAAGCC------CAACAATCGGCGACCAGGGCGTTGCAAGCCGCACGAGCTGCCGCTAAGGCTCAAGCCGAACTTACCCAGAAAGCCGCTCAAATCTTAGTCCTCATTGCTGAAGCCAAAGCCGCCGTGAGCCGAGCAAGCGCCGATCAATCCGTCTGTACGTCCCAGGCACAAGCCGCCAGTCAGATTCAATCGAGAGCCTCCGCGGCCGAATCCGCGGCATCGGCTCAATCGGAAGCCAACACCATTGCGGCCGAGGCGGTCGCTAGAGCTGACGCCGAGGCGGCCAGTCAAGCTCAAGCGTGGGCCGAATCCTTCAAACGC------------------------------------GAACTCTCGAGTGTCGTTTTGGAGGCCGAGGCCAATGCCTCGGCTAGTGCCTCGGCTGGTGCCCTGGCCAGT---------------GGTAGCAGCAGCTCGGGCGCGAGTTCC------------------------------------AGC---GCGGATGCCAGCGCCGGAGCGAGCAGCTATGGATCCTTGGGCGGATAT------------------------CGACACGGCGGAAGC------TTCAGCGAGGCATCGGCAGCCGCGTCAGCGGCCAGTCGCGCCGAGGCT---------------------------------------------------------------------------------------------------------GCG'}"
      ]
     },
     "execution_count": 23,
     "metadata": {},
     "output_type": "execute_result"
    }
   ],
   "source": [
    "from numpy.testing import assert_array_less"
   ]
  },
  {
   "cell_type": "code",
   "execution_count": 9,
   "metadata": {
    "collapsed": true
   },
   "outputs": [],
   "source": [
    "for node in cnfgtr.tree.getEdgeVector(include_root=False):\n",
    "    node.Length = cnfgtr.getParamValue('length', edge=node.Name)\n",
    "cnfgtr.tree.writeToFile('../results/cnfgtr.nwk',with_distances=True)"
   ]
  },
  {
   "cell_type": "code",
   "execution_count": 10,
   "metadata": {},
   "outputs": [
    {
     "name": "stdout",
     "output_type": "stream",
     "text": [
      "Likelihood Function Table\n",
      "==================================================================\n",
      "   A/C       A/G       A/T       C/G       C/T     indel     omega\n",
      "------------------------------------------------------------------\n",
      "0.8733    2.3427    1.1439    0.8136    1.8667    0.1366    0.3440\n",
      "------------------------------------------------------------------\n",
      "====================================\n",
      "       edge         parent    length\n",
      "------------------------------------\n",
      "     AmelF2      twoBeesF2    0.0865\n",
      "     AdorF2      twoBeesF2    0.0925\n",
      "  twoBeesF2    threeBeesF2    0.5586\n",
      "     BterF2    threeBeesF2    0.4722\n",
      "threeBeesF2         rootF2    1.2950\n",
      "     OsmaF2      twoAntsF2    0.7036\n",
      "     MforF2      twoAntsF2    0.7331\n",
      "  twoAntsF2         rootF2    2.2062\n",
      "     rootF2           root    0.3746\n",
      "     AmelF3      twoBeesF3    0.1163\n",
      "     AdorF3      twoBeesF3    0.0753\n",
      "  twoBeesF3    threeBeesF3    0.5753\n",
      "     BterF3    threeBeesF3    0.5324\n",
      "threeBeesF3         rootF3    0.6267\n",
      "     OsmaF3      twoAntsF3    0.6617\n",
      "     MforF3      twoAntsF3    0.5992\n",
      "  twoAntsF3         rootF3    1.8686\n",
      "     rootF3           root    1.3065\n",
      "     AmelF1      twoBeesF1    0.0904\n",
      "     AdorF1      twoBeesF1    0.0798\n",
      "  twoBeesF1    threeBeesF1    0.6622\n",
      "     BterF1    threeBeesF1    0.4247\n",
      "threeBeesF1         rootF1    1.2024\n",
      "     OsmaF1      twoAntsF1    0.5249\n",
      "     MforF1      twoAntsF1    0.9330\n",
      "  twoAntsF1         rootF1    1.9553\n",
      "     rootF1       rootF1F4    0.9159\n",
      "     AmelF4      twoBeesF4    0.1177\n",
      "     AdorF4      twoBeesF4    0.0489\n",
      "  twoBeesF4    threeBeesF4    0.5872\n",
      "     BterF4    threeBeesF4    1.1260\n",
      "threeBeesF4         rootF4    1.3888\n",
      "     OsmaF4      twoAntsF4    1.0451\n",
      "     MforF4      twoAntsF4    0.7041\n",
      "  twoAntsF4         rootF4    2.4310\n",
      "     rootF4       rootF1F4    0.1085\n",
      "   rootF1F4           root    0.3882\n",
      "------------------------------------\n",
      "===============\n",
      "motif    mprobs\n",
      "---------------\n",
      "  CTT    0.0074\n",
      "  ACC    0.0145\n",
      "  ACA    0.0044\n",
      "  ACG    0.0089\n",
      "  ATC    0.0142\n",
      "  ATA    0.0066\n",
      "  AGG    0.0074\n",
      "  CCT    0.0009\n",
      "  AGC    0.0261\n",
      "  AGA    0.0092\n",
      "  ATT    0.0050\n",
      "  CTG    0.0131\n",
      "  CTA    0.0028\n",
      "  ACT    0.0051\n",
      "  CCG    0.0024\n",
      "  AGT    0.0108\n",
      "  CCA    0.0031\n",
      "  CCC    0.0018\n",
      "  TAT    0.0022\n",
      "  GGT    0.0133\n",
      "  CGA    0.0048\n",
      "  CGC    0.0068\n",
      "  CGG    0.0027\n",
      "  GGG    0.0029\n",
      "  GGA    0.0134\n",
      "  GGC    0.0183\n",
      "  TAC    0.0041\n",
      "  CGT    0.0060\n",
      "  GTA    0.0053\n",
      "  GTC    0.0127\n",
      "  GTG    0.0109\n",
      "  GAG    0.0271\n",
      "  GTT    0.0059\n",
      "  GAC    0.0103\n",
      "  ATG    0.0054\n",
      "  AAG    0.0234\n",
      "  AAA    0.0183\n",
      "  AAC    0.0162\n",
      "  CTC    0.0182\n",
      "  CAT    0.0026\n",
      "  AAT    0.0102\n",
      "  CAC    0.0027\n",
      "  CAA    0.0211\n",
      "  CAG    0.0195\n",
      "  TGT    0.0007\n",
      "  TCT    0.0112\n",
      "  GAT    0.0081\n",
      "  TTT    0.0016\n",
      "  TGC    0.0023\n",
      "  TGG    0.0100\n",
      "  TTC    0.0030\n",
      "  TCG    0.0228\n",
      "  TTA    0.0054\n",
      "  TTG    0.0146\n",
      "  TCC    0.0311\n",
      "  GAA    0.0282\n",
      "  TCA    0.0109\n",
      "  GCA    0.0423\n",
      "  GCC    0.0836\n",
      "  GCG    0.0456\n",
      "  GCT    0.0489\n",
      "  ---    0.2013\n",
      "---------------\n"
     ]
    }
   ],
   "source": [
    "print cnfgtr"
   ]
  },
  {
   "cell_type": "code",
   "execution_count": 11,
   "metadata": {
    "collapsed": true
   },
   "outputs": [],
   "source": [
    "raw_length = len(aln)\n",
    "aln = aln.withoutTerminalStopCodons()\n",
    "filt = lambda x: set(''.join(x)) <= set(cogent.DNA).union({'-'})\n",
    "aln = aln.filtered(filt, motif_length=3)\n",
    "assert len(aln) == raw_length\n",
    "cnfgtr.setAlignment(aln)"
   ]
  },
  {
   "cell_type": "code",
   "execution_count": 12,
   "metadata": {
    "collapsed": true
   },
   "outputs": [],
   "source": [
    "anc_aln = gapped.joint(cnfgtr)"
   ]
  },
  {
   "cell_type": "code",
   "execution_count": 13,
   "metadata": {
    "collapsed": true
   },
   "outputs": [],
   "source": [
    "anc_aln.writeToFile('../results/joint.fasta')"
   ]
  },
  {
   "cell_type": "code",
   "execution_count": 14,
   "metadata": {
    "collapsed": true
   },
   "outputs": [],
   "source": [
    "pi = cnfgtr.getMotifProbsByNode()['root'].asarray()\n",
    "P = cnfgtr.getPsubForEdge('rootF1')\n",
    "assert allclose(pi.dot(P), pi)"
   ]
  },
  {
   "cell_type": "code",
   "execution_count": 15,
   "metadata": {
    "collapsed": true
   },
   "outputs": [],
   "source": [
    "omega = cnfgtr.getParamValue('omega')\n",
    "pi = cnfgtr.getMotifProbs()\n",
    "Q = cnfgtr.getRateMatrixForEdge('rootF1')\n",
    "cond_p = pi['CCG'] / sum(pi['CC'+c] for c in 'ACGT')\n",
    "ref_cell = Q['CCT']['CCG']/cond_p\n",
    "cond_p = pi['CCC'] / sum(pi['CC'+c] for c in 'ACGT')\n",
    "assert allclose(Q['CCA']['CCC']/cond_p/ref_cell, cnfgtr.getParamValue('A/C'))\n",
    "assert allclose(Q['---']['CCC']/pi['CCC']/ref_cell, cnfgtr.getParamValue('indel'))\n",
    "R = Q.asarray()/pi.asarray()\n",
    "assert allclose(R.T, R)"
   ]
  },
  {
   "cell_type": "code",
   "execution_count": null,
   "metadata": {
    "collapsed": true
   },
   "outputs": [],
   "source": []
  }
 ],
 "metadata": {
  "kernelspec": {
   "display_name": "Python 2",
   "language": "python",
   "name": "python2"
  },
  "language_info": {
   "codemirror_mode": {
    "name": "ipython",
    "version": 2
   },
   "file_extension": ".py",
   "mimetype": "text/x-python",
   "name": "python",
   "nbconvert_exporter": "python",
   "pygments_lexer": "ipython2",
   "version": "2.7.13"
  }
 },
 "nbformat": 4,
 "nbformat_minor": 1
}
